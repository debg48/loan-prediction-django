{
  "nbformat": 4,
  "nbformat_minor": 0,
  "metadata": {
    "colab": {
      "provenance": [],
      "authorship_tag": "ABX9TyM7GhdAbpJpFRZKCiXe5A6S",
      "include_colab_link": true
    },
    "kernelspec": {
      "name": "python3",
      "display_name": "Python 3"
    },
    "language_info": {
      "name": "python"
    }
  },
  "cells": [
    {
      "cell_type": "markdown",
      "metadata": {
        "id": "view-in-github",
        "colab_type": "text"
      },
      "source": [
        "<a href=\"https://colab.research.google.com/github/debg48/loan-prediction-django/blob/main/Loan_Prediction.ipynb\" target=\"_parent\"><img src=\"https://colab.research.google.com/assets/colab-badge.svg\" alt=\"Open In Colab\"/></a>"
      ]
    },
    {
      "cell_type": "markdown",
      "source": [
        "# Data Cleaning and Setup"
      ],
      "metadata": {
        "id": "fe02Grr4ft9d"
      }
    },
    {
      "cell_type": "code",
      "execution_count": 1,
      "metadata": {
        "id": "PnZ6pFQCUtVa"
      },
      "outputs": [],
      "source": [
        "import pandas as pd\n",
        "import numpy as np"
      ]
    },
    {
      "cell_type": "code",
      "source": [
        "df=pd.read_csv(\"/content/loan_approval_dataset.csv\")"
      ],
      "metadata": {
        "id": "tONExIFHWgEj"
      },
      "execution_count": 2,
      "outputs": []
    },
    {
      "cell_type": "code",
      "source": [
        "df"
      ],
      "metadata": {
        "colab": {
          "base_uri": "https://localhost:8080/",
          "height": 574
        },
        "id": "kt-JPKTjWq5K",
        "outputId": "80b1dfaf-98af-4891-a0b7-5e5e45ac8c37"
      },
      "execution_count": 3,
      "outputs": [
        {
          "output_type": "execute_result",
          "data": {
            "text/plain": [
              "      loan_id   no_of_dependents      education  self_employed   income_annum  \\\n",
              "0           1                  2       Graduate             No        9600000   \n",
              "1           2                  0   Not Graduate            Yes        4100000   \n",
              "2           3                  3       Graduate             No        9100000   \n",
              "3           4                  3       Graduate             No        8200000   \n",
              "4           5                  5   Not Graduate            Yes        9800000   \n",
              "...       ...                ...            ...            ...            ...   \n",
              "4264     4265                  5       Graduate            Yes        1000000   \n",
              "4265     4266                  0   Not Graduate            Yes        3300000   \n",
              "4266     4267                  2   Not Graduate             No        6500000   \n",
              "4267     4268                  1   Not Graduate             No        4100000   \n",
              "4268     4269                  1       Graduate             No        9200000   \n",
              "\n",
              "       loan_amount   loan_term   cibil_score   residential_assets_value  \\\n",
              "0         29900000          12           778                    2400000   \n",
              "1         12200000           8           417                    2700000   \n",
              "2         29700000          20           506                    7100000   \n",
              "3         30700000           8           467                   18200000   \n",
              "4         24200000          20           382                   12400000   \n",
              "...            ...         ...           ...                        ...   \n",
              "4264       2300000          12           317                    2800000   \n",
              "4265      11300000          20           559                    4200000   \n",
              "4266      23900000          18           457                    1200000   \n",
              "4267      12800000           8           780                    8200000   \n",
              "4268      29700000          10           607                   17800000   \n",
              "\n",
              "       commercial_assets_value   luxury_assets_value   bank_asset_value  \\\n",
              "0                     17600000              22700000            8000000   \n",
              "1                      2200000               8800000            3300000   \n",
              "2                      4500000              33300000           12800000   \n",
              "3                      3300000              23300000            7900000   \n",
              "4                      8200000              29400000            5000000   \n",
              "...                        ...                   ...                ...   \n",
              "4264                    500000               3300000             800000   \n",
              "4265                   2900000              11000000            1900000   \n",
              "4266                  12400000              18100000            7300000   \n",
              "4267                    700000              14100000            5800000   \n",
              "4268                  11800000              35700000           12000000   \n",
              "\n",
              "      loan_status  \n",
              "0        Approved  \n",
              "1        Rejected  \n",
              "2        Rejected  \n",
              "3        Rejected  \n",
              "4        Rejected  \n",
              "...           ...  \n",
              "4264     Rejected  \n",
              "4265     Approved  \n",
              "4266     Rejected  \n",
              "4267     Approved  \n",
              "4268     Approved  \n",
              "\n",
              "[4269 rows x 13 columns]"
            ],
            "text/html": [
              "\n",
              "\n",
              "  <div id=\"df-5e503315-7f30-464f-8bea-062deaf6b375\">\n",
              "    <div class=\"colab-df-container\">\n",
              "      <div>\n",
              "<style scoped>\n",
              "    .dataframe tbody tr th:only-of-type {\n",
              "        vertical-align: middle;\n",
              "    }\n",
              "\n",
              "    .dataframe tbody tr th {\n",
              "        vertical-align: top;\n",
              "    }\n",
              "\n",
              "    .dataframe thead th {\n",
              "        text-align: right;\n",
              "    }\n",
              "</style>\n",
              "<table border=\"1\" class=\"dataframe\">\n",
              "  <thead>\n",
              "    <tr style=\"text-align: right;\">\n",
              "      <th></th>\n",
              "      <th>loan_id</th>\n",
              "      <th>no_of_dependents</th>\n",
              "      <th>education</th>\n",
              "      <th>self_employed</th>\n",
              "      <th>income_annum</th>\n",
              "      <th>loan_amount</th>\n",
              "      <th>loan_term</th>\n",
              "      <th>cibil_score</th>\n",
              "      <th>residential_assets_value</th>\n",
              "      <th>commercial_assets_value</th>\n",
              "      <th>luxury_assets_value</th>\n",
              "      <th>bank_asset_value</th>\n",
              "      <th>loan_status</th>\n",
              "    </tr>\n",
              "  </thead>\n",
              "  <tbody>\n",
              "    <tr>\n",
              "      <th>0</th>\n",
              "      <td>1</td>\n",
              "      <td>2</td>\n",
              "      <td>Graduate</td>\n",
              "      <td>No</td>\n",
              "      <td>9600000</td>\n",
              "      <td>29900000</td>\n",
              "      <td>12</td>\n",
              "      <td>778</td>\n",
              "      <td>2400000</td>\n",
              "      <td>17600000</td>\n",
              "      <td>22700000</td>\n",
              "      <td>8000000</td>\n",
              "      <td>Approved</td>\n",
              "    </tr>\n",
              "    <tr>\n",
              "      <th>1</th>\n",
              "      <td>2</td>\n",
              "      <td>0</td>\n",
              "      <td>Not Graduate</td>\n",
              "      <td>Yes</td>\n",
              "      <td>4100000</td>\n",
              "      <td>12200000</td>\n",
              "      <td>8</td>\n",
              "      <td>417</td>\n",
              "      <td>2700000</td>\n",
              "      <td>2200000</td>\n",
              "      <td>8800000</td>\n",
              "      <td>3300000</td>\n",
              "      <td>Rejected</td>\n",
              "    </tr>\n",
              "    <tr>\n",
              "      <th>2</th>\n",
              "      <td>3</td>\n",
              "      <td>3</td>\n",
              "      <td>Graduate</td>\n",
              "      <td>No</td>\n",
              "      <td>9100000</td>\n",
              "      <td>29700000</td>\n",
              "      <td>20</td>\n",
              "      <td>506</td>\n",
              "      <td>7100000</td>\n",
              "      <td>4500000</td>\n",
              "      <td>33300000</td>\n",
              "      <td>12800000</td>\n",
              "      <td>Rejected</td>\n",
              "    </tr>\n",
              "    <tr>\n",
              "      <th>3</th>\n",
              "      <td>4</td>\n",
              "      <td>3</td>\n",
              "      <td>Graduate</td>\n",
              "      <td>No</td>\n",
              "      <td>8200000</td>\n",
              "      <td>30700000</td>\n",
              "      <td>8</td>\n",
              "      <td>467</td>\n",
              "      <td>18200000</td>\n",
              "      <td>3300000</td>\n",
              "      <td>23300000</td>\n",
              "      <td>7900000</td>\n",
              "      <td>Rejected</td>\n",
              "    </tr>\n",
              "    <tr>\n",
              "      <th>4</th>\n",
              "      <td>5</td>\n",
              "      <td>5</td>\n",
              "      <td>Not Graduate</td>\n",
              "      <td>Yes</td>\n",
              "      <td>9800000</td>\n",
              "      <td>24200000</td>\n",
              "      <td>20</td>\n",
              "      <td>382</td>\n",
              "      <td>12400000</td>\n",
              "      <td>8200000</td>\n",
              "      <td>29400000</td>\n",
              "      <td>5000000</td>\n",
              "      <td>Rejected</td>\n",
              "    </tr>\n",
              "    <tr>\n",
              "      <th>...</th>\n",
              "      <td>...</td>\n",
              "      <td>...</td>\n",
              "      <td>...</td>\n",
              "      <td>...</td>\n",
              "      <td>...</td>\n",
              "      <td>...</td>\n",
              "      <td>...</td>\n",
              "      <td>...</td>\n",
              "      <td>...</td>\n",
              "      <td>...</td>\n",
              "      <td>...</td>\n",
              "      <td>...</td>\n",
              "      <td>...</td>\n",
              "    </tr>\n",
              "    <tr>\n",
              "      <th>4264</th>\n",
              "      <td>4265</td>\n",
              "      <td>5</td>\n",
              "      <td>Graduate</td>\n",
              "      <td>Yes</td>\n",
              "      <td>1000000</td>\n",
              "      <td>2300000</td>\n",
              "      <td>12</td>\n",
              "      <td>317</td>\n",
              "      <td>2800000</td>\n",
              "      <td>500000</td>\n",
              "      <td>3300000</td>\n",
              "      <td>800000</td>\n",
              "      <td>Rejected</td>\n",
              "    </tr>\n",
              "    <tr>\n",
              "      <th>4265</th>\n",
              "      <td>4266</td>\n",
              "      <td>0</td>\n",
              "      <td>Not Graduate</td>\n",
              "      <td>Yes</td>\n",
              "      <td>3300000</td>\n",
              "      <td>11300000</td>\n",
              "      <td>20</td>\n",
              "      <td>559</td>\n",
              "      <td>4200000</td>\n",
              "      <td>2900000</td>\n",
              "      <td>11000000</td>\n",
              "      <td>1900000</td>\n",
              "      <td>Approved</td>\n",
              "    </tr>\n",
              "    <tr>\n",
              "      <th>4266</th>\n",
              "      <td>4267</td>\n",
              "      <td>2</td>\n",
              "      <td>Not Graduate</td>\n",
              "      <td>No</td>\n",
              "      <td>6500000</td>\n",
              "      <td>23900000</td>\n",
              "      <td>18</td>\n",
              "      <td>457</td>\n",
              "      <td>1200000</td>\n",
              "      <td>12400000</td>\n",
              "      <td>18100000</td>\n",
              "      <td>7300000</td>\n",
              "      <td>Rejected</td>\n",
              "    </tr>\n",
              "    <tr>\n",
              "      <th>4267</th>\n",
              "      <td>4268</td>\n",
              "      <td>1</td>\n",
              "      <td>Not Graduate</td>\n",
              "      <td>No</td>\n",
              "      <td>4100000</td>\n",
              "      <td>12800000</td>\n",
              "      <td>8</td>\n",
              "      <td>780</td>\n",
              "      <td>8200000</td>\n",
              "      <td>700000</td>\n",
              "      <td>14100000</td>\n",
              "      <td>5800000</td>\n",
              "      <td>Approved</td>\n",
              "    </tr>\n",
              "    <tr>\n",
              "      <th>4268</th>\n",
              "      <td>4269</td>\n",
              "      <td>1</td>\n",
              "      <td>Graduate</td>\n",
              "      <td>No</td>\n",
              "      <td>9200000</td>\n",
              "      <td>29700000</td>\n",
              "      <td>10</td>\n",
              "      <td>607</td>\n",
              "      <td>17800000</td>\n",
              "      <td>11800000</td>\n",
              "      <td>35700000</td>\n",
              "      <td>12000000</td>\n",
              "      <td>Approved</td>\n",
              "    </tr>\n",
              "  </tbody>\n",
              "</table>\n",
              "<p>4269 rows × 13 columns</p>\n",
              "</div>\n",
              "      <button class=\"colab-df-convert\" onclick=\"convertToInteractive('df-5e503315-7f30-464f-8bea-062deaf6b375')\"\n",
              "              title=\"Convert this dataframe to an interactive table.\"\n",
              "              style=\"display:none;\">\n",
              "\n",
              "  <svg xmlns=\"http://www.w3.org/2000/svg\" height=\"24px\"viewBox=\"0 0 24 24\"\n",
              "       width=\"24px\">\n",
              "    <path d=\"M0 0h24v24H0V0z\" fill=\"none\"/>\n",
              "    <path d=\"M18.56 5.44l.94 2.06.94-2.06 2.06-.94-2.06-.94-.94-2.06-.94 2.06-2.06.94zm-11 1L8.5 8.5l.94-2.06 2.06-.94-2.06-.94L8.5 2.5l-.94 2.06-2.06.94zm10 10l.94 2.06.94-2.06 2.06-.94-2.06-.94-.94-2.06-.94 2.06-2.06.94z\"/><path d=\"M17.41 7.96l-1.37-1.37c-.4-.4-.92-.59-1.43-.59-.52 0-1.04.2-1.43.59L10.3 9.45l-7.72 7.72c-.78.78-.78 2.05 0 2.83L4 21.41c.39.39.9.59 1.41.59.51 0 1.02-.2 1.41-.59l7.78-7.78 2.81-2.81c.8-.78.8-2.07 0-2.86zM5.41 20L4 18.59l7.72-7.72 1.47 1.35L5.41 20z\"/>\n",
              "  </svg>\n",
              "      </button>\n",
              "\n",
              "\n",
              "\n",
              "    <div id=\"df-17278f7b-3ea8-4e0a-a781-b6551e1b52bc\">\n",
              "      <button class=\"colab-df-quickchart\" onclick=\"quickchart('df-17278f7b-3ea8-4e0a-a781-b6551e1b52bc')\"\n",
              "              title=\"Suggest charts.\"\n",
              "              style=\"display:none;\">\n",
              "\n",
              "<svg xmlns=\"http://www.w3.org/2000/svg\" height=\"24px\"viewBox=\"0 0 24 24\"\n",
              "     width=\"24px\">\n",
              "    <g>\n",
              "        <path d=\"M19 3H5c-1.1 0-2 .9-2 2v14c0 1.1.9 2 2 2h14c1.1 0 2-.9 2-2V5c0-1.1-.9-2-2-2zM9 17H7v-7h2v7zm4 0h-2V7h2v10zm4 0h-2v-4h2v4z\"/>\n",
              "    </g>\n",
              "</svg>\n",
              "      </button>\n",
              "    </div>\n",
              "\n",
              "<style>\n",
              "  .colab-df-quickchart {\n",
              "    background-color: #E8F0FE;\n",
              "    border: none;\n",
              "    border-radius: 50%;\n",
              "    cursor: pointer;\n",
              "    display: none;\n",
              "    fill: #1967D2;\n",
              "    height: 32px;\n",
              "    padding: 0 0 0 0;\n",
              "    width: 32px;\n",
              "  }\n",
              "\n",
              "  .colab-df-quickchart:hover {\n",
              "    background-color: #E2EBFA;\n",
              "    box-shadow: 0px 1px 2px rgba(60, 64, 67, 0.3), 0px 1px 3px 1px rgba(60, 64, 67, 0.15);\n",
              "    fill: #174EA6;\n",
              "  }\n",
              "\n",
              "  [theme=dark] .colab-df-quickchart {\n",
              "    background-color: #3B4455;\n",
              "    fill: #D2E3FC;\n",
              "  }\n",
              "\n",
              "  [theme=dark] .colab-df-quickchart:hover {\n",
              "    background-color: #434B5C;\n",
              "    box-shadow: 0px 1px 3px 1px rgba(0, 0, 0, 0.15);\n",
              "    filter: drop-shadow(0px 1px 2px rgba(0, 0, 0, 0.3));\n",
              "    fill: #FFFFFF;\n",
              "  }\n",
              "</style>\n",
              "\n",
              "    <script>\n",
              "      async function quickchart(key) {\n",
              "        const containerElement = document.querySelector('#' + key);\n",
              "        const charts = await google.colab.kernel.invokeFunction(\n",
              "            'suggestCharts', [key], {});\n",
              "      }\n",
              "    </script>\n",
              "\n",
              "      <script>\n",
              "\n",
              "function displayQuickchartButton(domScope) {\n",
              "  let quickchartButtonEl =\n",
              "    domScope.querySelector('#df-17278f7b-3ea8-4e0a-a781-b6551e1b52bc button.colab-df-quickchart');\n",
              "  quickchartButtonEl.style.display =\n",
              "    google.colab.kernel.accessAllowed ? 'block' : 'none';\n",
              "}\n",
              "\n",
              "        displayQuickchartButton(document);\n",
              "      </script>\n",
              "      <style>\n",
              "    .colab-df-container {\n",
              "      display:flex;\n",
              "      flex-wrap:wrap;\n",
              "      gap: 12px;\n",
              "    }\n",
              "\n",
              "    .colab-df-convert {\n",
              "      background-color: #E8F0FE;\n",
              "      border: none;\n",
              "      border-radius: 50%;\n",
              "      cursor: pointer;\n",
              "      display: none;\n",
              "      fill: #1967D2;\n",
              "      height: 32px;\n",
              "      padding: 0 0 0 0;\n",
              "      width: 32px;\n",
              "    }\n",
              "\n",
              "    .colab-df-convert:hover {\n",
              "      background-color: #E2EBFA;\n",
              "      box-shadow: 0px 1px 2px rgba(60, 64, 67, 0.3), 0px 1px 3px 1px rgba(60, 64, 67, 0.15);\n",
              "      fill: #174EA6;\n",
              "    }\n",
              "\n",
              "    [theme=dark] .colab-df-convert {\n",
              "      background-color: #3B4455;\n",
              "      fill: #D2E3FC;\n",
              "    }\n",
              "\n",
              "    [theme=dark] .colab-df-convert:hover {\n",
              "      background-color: #434B5C;\n",
              "      box-shadow: 0px 1px 3px 1px rgba(0, 0, 0, 0.15);\n",
              "      filter: drop-shadow(0px 1px 2px rgba(0, 0, 0, 0.3));\n",
              "      fill: #FFFFFF;\n",
              "    }\n",
              "  </style>\n",
              "\n",
              "      <script>\n",
              "        const buttonEl =\n",
              "          document.querySelector('#df-5e503315-7f30-464f-8bea-062deaf6b375 button.colab-df-convert');\n",
              "        buttonEl.style.display =\n",
              "          google.colab.kernel.accessAllowed ? 'block' : 'none';\n",
              "\n",
              "        async function convertToInteractive(key) {\n",
              "          const element = document.querySelector('#df-5e503315-7f30-464f-8bea-062deaf6b375');\n",
              "          const dataTable =\n",
              "            await google.colab.kernel.invokeFunction('convertToInteractive',\n",
              "                                                     [key], {});\n",
              "          if (!dataTable) return;\n",
              "\n",
              "          const docLinkHtml = 'Like what you see? Visit the ' +\n",
              "            '<a target=\"_blank\" href=https://colab.research.google.com/notebooks/data_table.ipynb>data table notebook</a>'\n",
              "            + ' to learn more about interactive tables.';\n",
              "          element.innerHTML = '';\n",
              "          dataTable['output_type'] = 'display_data';\n",
              "          await google.colab.output.renderOutput(dataTable, element);\n",
              "          const docLink = document.createElement('div');\n",
              "          docLink.innerHTML = docLinkHtml;\n",
              "          element.appendChild(docLink);\n",
              "        }\n",
              "      </script>\n",
              "    </div>\n",
              "  </div>\n"
            ]
          },
          "metadata": {},
          "execution_count": 3
        }
      ]
    },
    {
      "cell_type": "code",
      "source": [
        "df.rename(columns = {' no_of_dependents':'no_of_dependents',' education':'education',' self_employed':'self_employed',' income_annum':'income_annum',' loan_amount':'loan_amount',' loan_term':'loan_term',' cibil_score':'cibil_score',' residential_assets_value':'residential_assets_value',' commercial_assets_value':'commercial_assets_value',' luxury_assets_value':'luxury_assets_value',' bank_asset_value':'bank_asset_value',' loan_status':'loan_status'}, inplace = True)"
      ],
      "metadata": {
        "id": "-rQlPaiOlTUL"
      },
      "execution_count": 4,
      "outputs": []
    },
    {
      "cell_type": "code",
      "source": [
        "df"
      ],
      "metadata": {
        "colab": {
          "base_uri": "https://localhost:8080/",
          "height": 574
        },
        "id": "R-bAEQlInHnG",
        "outputId": "e4390a25-066c-40f0-aa92-2b7d5cbc156f"
      },
      "execution_count": 5,
      "outputs": [
        {
          "output_type": "execute_result",
          "data": {
            "text/plain": [
              "      loan_id  no_of_dependents      education self_employed  income_annum  \\\n",
              "0           1                 2       Graduate            No       9600000   \n",
              "1           2                 0   Not Graduate           Yes       4100000   \n",
              "2           3                 3       Graduate            No       9100000   \n",
              "3           4                 3       Graduate            No       8200000   \n",
              "4           5                 5   Not Graduate           Yes       9800000   \n",
              "...       ...               ...            ...           ...           ...   \n",
              "4264     4265                 5       Graduate           Yes       1000000   \n",
              "4265     4266                 0   Not Graduate           Yes       3300000   \n",
              "4266     4267                 2   Not Graduate            No       6500000   \n",
              "4267     4268                 1   Not Graduate            No       4100000   \n",
              "4268     4269                 1       Graduate            No       9200000   \n",
              "\n",
              "      loan_amount  loan_term  cibil_score  residential_assets_value  \\\n",
              "0        29900000         12          778                   2400000   \n",
              "1        12200000          8          417                   2700000   \n",
              "2        29700000         20          506                   7100000   \n",
              "3        30700000          8          467                  18200000   \n",
              "4        24200000         20          382                  12400000   \n",
              "...           ...        ...          ...                       ...   \n",
              "4264      2300000         12          317                   2800000   \n",
              "4265     11300000         20          559                   4200000   \n",
              "4266     23900000         18          457                   1200000   \n",
              "4267     12800000          8          780                   8200000   \n",
              "4268     29700000         10          607                  17800000   \n",
              "\n",
              "      commercial_assets_value  luxury_assets_value  bank_asset_value  \\\n",
              "0                    17600000             22700000           8000000   \n",
              "1                     2200000              8800000           3300000   \n",
              "2                     4500000             33300000          12800000   \n",
              "3                     3300000             23300000           7900000   \n",
              "4                     8200000             29400000           5000000   \n",
              "...                       ...                  ...               ...   \n",
              "4264                   500000              3300000            800000   \n",
              "4265                  2900000             11000000           1900000   \n",
              "4266                 12400000             18100000           7300000   \n",
              "4267                   700000             14100000           5800000   \n",
              "4268                 11800000             35700000          12000000   \n",
              "\n",
              "     loan_status  \n",
              "0       Approved  \n",
              "1       Rejected  \n",
              "2       Rejected  \n",
              "3       Rejected  \n",
              "4       Rejected  \n",
              "...          ...  \n",
              "4264    Rejected  \n",
              "4265    Approved  \n",
              "4266    Rejected  \n",
              "4267    Approved  \n",
              "4268    Approved  \n",
              "\n",
              "[4269 rows x 13 columns]"
            ],
            "text/html": [
              "\n",
              "\n",
              "  <div id=\"df-d25be89a-2c31-46dc-bc69-721cc6b4b0d7\">\n",
              "    <div class=\"colab-df-container\">\n",
              "      <div>\n",
              "<style scoped>\n",
              "    .dataframe tbody tr th:only-of-type {\n",
              "        vertical-align: middle;\n",
              "    }\n",
              "\n",
              "    .dataframe tbody tr th {\n",
              "        vertical-align: top;\n",
              "    }\n",
              "\n",
              "    .dataframe thead th {\n",
              "        text-align: right;\n",
              "    }\n",
              "</style>\n",
              "<table border=\"1\" class=\"dataframe\">\n",
              "  <thead>\n",
              "    <tr style=\"text-align: right;\">\n",
              "      <th></th>\n",
              "      <th>loan_id</th>\n",
              "      <th>no_of_dependents</th>\n",
              "      <th>education</th>\n",
              "      <th>self_employed</th>\n",
              "      <th>income_annum</th>\n",
              "      <th>loan_amount</th>\n",
              "      <th>loan_term</th>\n",
              "      <th>cibil_score</th>\n",
              "      <th>residential_assets_value</th>\n",
              "      <th>commercial_assets_value</th>\n",
              "      <th>luxury_assets_value</th>\n",
              "      <th>bank_asset_value</th>\n",
              "      <th>loan_status</th>\n",
              "    </tr>\n",
              "  </thead>\n",
              "  <tbody>\n",
              "    <tr>\n",
              "      <th>0</th>\n",
              "      <td>1</td>\n",
              "      <td>2</td>\n",
              "      <td>Graduate</td>\n",
              "      <td>No</td>\n",
              "      <td>9600000</td>\n",
              "      <td>29900000</td>\n",
              "      <td>12</td>\n",
              "      <td>778</td>\n",
              "      <td>2400000</td>\n",
              "      <td>17600000</td>\n",
              "      <td>22700000</td>\n",
              "      <td>8000000</td>\n",
              "      <td>Approved</td>\n",
              "    </tr>\n",
              "    <tr>\n",
              "      <th>1</th>\n",
              "      <td>2</td>\n",
              "      <td>0</td>\n",
              "      <td>Not Graduate</td>\n",
              "      <td>Yes</td>\n",
              "      <td>4100000</td>\n",
              "      <td>12200000</td>\n",
              "      <td>8</td>\n",
              "      <td>417</td>\n",
              "      <td>2700000</td>\n",
              "      <td>2200000</td>\n",
              "      <td>8800000</td>\n",
              "      <td>3300000</td>\n",
              "      <td>Rejected</td>\n",
              "    </tr>\n",
              "    <tr>\n",
              "      <th>2</th>\n",
              "      <td>3</td>\n",
              "      <td>3</td>\n",
              "      <td>Graduate</td>\n",
              "      <td>No</td>\n",
              "      <td>9100000</td>\n",
              "      <td>29700000</td>\n",
              "      <td>20</td>\n",
              "      <td>506</td>\n",
              "      <td>7100000</td>\n",
              "      <td>4500000</td>\n",
              "      <td>33300000</td>\n",
              "      <td>12800000</td>\n",
              "      <td>Rejected</td>\n",
              "    </tr>\n",
              "    <tr>\n",
              "      <th>3</th>\n",
              "      <td>4</td>\n",
              "      <td>3</td>\n",
              "      <td>Graduate</td>\n",
              "      <td>No</td>\n",
              "      <td>8200000</td>\n",
              "      <td>30700000</td>\n",
              "      <td>8</td>\n",
              "      <td>467</td>\n",
              "      <td>18200000</td>\n",
              "      <td>3300000</td>\n",
              "      <td>23300000</td>\n",
              "      <td>7900000</td>\n",
              "      <td>Rejected</td>\n",
              "    </tr>\n",
              "    <tr>\n",
              "      <th>4</th>\n",
              "      <td>5</td>\n",
              "      <td>5</td>\n",
              "      <td>Not Graduate</td>\n",
              "      <td>Yes</td>\n",
              "      <td>9800000</td>\n",
              "      <td>24200000</td>\n",
              "      <td>20</td>\n",
              "      <td>382</td>\n",
              "      <td>12400000</td>\n",
              "      <td>8200000</td>\n",
              "      <td>29400000</td>\n",
              "      <td>5000000</td>\n",
              "      <td>Rejected</td>\n",
              "    </tr>\n",
              "    <tr>\n",
              "      <th>...</th>\n",
              "      <td>...</td>\n",
              "      <td>...</td>\n",
              "      <td>...</td>\n",
              "      <td>...</td>\n",
              "      <td>...</td>\n",
              "      <td>...</td>\n",
              "      <td>...</td>\n",
              "      <td>...</td>\n",
              "      <td>...</td>\n",
              "      <td>...</td>\n",
              "      <td>...</td>\n",
              "      <td>...</td>\n",
              "      <td>...</td>\n",
              "    </tr>\n",
              "    <tr>\n",
              "      <th>4264</th>\n",
              "      <td>4265</td>\n",
              "      <td>5</td>\n",
              "      <td>Graduate</td>\n",
              "      <td>Yes</td>\n",
              "      <td>1000000</td>\n",
              "      <td>2300000</td>\n",
              "      <td>12</td>\n",
              "      <td>317</td>\n",
              "      <td>2800000</td>\n",
              "      <td>500000</td>\n",
              "      <td>3300000</td>\n",
              "      <td>800000</td>\n",
              "      <td>Rejected</td>\n",
              "    </tr>\n",
              "    <tr>\n",
              "      <th>4265</th>\n",
              "      <td>4266</td>\n",
              "      <td>0</td>\n",
              "      <td>Not Graduate</td>\n",
              "      <td>Yes</td>\n",
              "      <td>3300000</td>\n",
              "      <td>11300000</td>\n",
              "      <td>20</td>\n",
              "      <td>559</td>\n",
              "      <td>4200000</td>\n",
              "      <td>2900000</td>\n",
              "      <td>11000000</td>\n",
              "      <td>1900000</td>\n",
              "      <td>Approved</td>\n",
              "    </tr>\n",
              "    <tr>\n",
              "      <th>4266</th>\n",
              "      <td>4267</td>\n",
              "      <td>2</td>\n",
              "      <td>Not Graduate</td>\n",
              "      <td>No</td>\n",
              "      <td>6500000</td>\n",
              "      <td>23900000</td>\n",
              "      <td>18</td>\n",
              "      <td>457</td>\n",
              "      <td>1200000</td>\n",
              "      <td>12400000</td>\n",
              "      <td>18100000</td>\n",
              "      <td>7300000</td>\n",
              "      <td>Rejected</td>\n",
              "    </tr>\n",
              "    <tr>\n",
              "      <th>4267</th>\n",
              "      <td>4268</td>\n",
              "      <td>1</td>\n",
              "      <td>Not Graduate</td>\n",
              "      <td>No</td>\n",
              "      <td>4100000</td>\n",
              "      <td>12800000</td>\n",
              "      <td>8</td>\n",
              "      <td>780</td>\n",
              "      <td>8200000</td>\n",
              "      <td>700000</td>\n",
              "      <td>14100000</td>\n",
              "      <td>5800000</td>\n",
              "      <td>Approved</td>\n",
              "    </tr>\n",
              "    <tr>\n",
              "      <th>4268</th>\n",
              "      <td>4269</td>\n",
              "      <td>1</td>\n",
              "      <td>Graduate</td>\n",
              "      <td>No</td>\n",
              "      <td>9200000</td>\n",
              "      <td>29700000</td>\n",
              "      <td>10</td>\n",
              "      <td>607</td>\n",
              "      <td>17800000</td>\n",
              "      <td>11800000</td>\n",
              "      <td>35700000</td>\n",
              "      <td>12000000</td>\n",
              "      <td>Approved</td>\n",
              "    </tr>\n",
              "  </tbody>\n",
              "</table>\n",
              "<p>4269 rows × 13 columns</p>\n",
              "</div>\n",
              "      <button class=\"colab-df-convert\" onclick=\"convertToInteractive('df-d25be89a-2c31-46dc-bc69-721cc6b4b0d7')\"\n",
              "              title=\"Convert this dataframe to an interactive table.\"\n",
              "              style=\"display:none;\">\n",
              "\n",
              "  <svg xmlns=\"http://www.w3.org/2000/svg\" height=\"24px\"viewBox=\"0 0 24 24\"\n",
              "       width=\"24px\">\n",
              "    <path d=\"M0 0h24v24H0V0z\" fill=\"none\"/>\n",
              "    <path d=\"M18.56 5.44l.94 2.06.94-2.06 2.06-.94-2.06-.94-.94-2.06-.94 2.06-2.06.94zm-11 1L8.5 8.5l.94-2.06 2.06-.94-2.06-.94L8.5 2.5l-.94 2.06-2.06.94zm10 10l.94 2.06.94-2.06 2.06-.94-2.06-.94-.94-2.06-.94 2.06-2.06.94z\"/><path d=\"M17.41 7.96l-1.37-1.37c-.4-.4-.92-.59-1.43-.59-.52 0-1.04.2-1.43.59L10.3 9.45l-7.72 7.72c-.78.78-.78 2.05 0 2.83L4 21.41c.39.39.9.59 1.41.59.51 0 1.02-.2 1.41-.59l7.78-7.78 2.81-2.81c.8-.78.8-2.07 0-2.86zM5.41 20L4 18.59l7.72-7.72 1.47 1.35L5.41 20z\"/>\n",
              "  </svg>\n",
              "      </button>\n",
              "\n",
              "\n",
              "\n",
              "    <div id=\"df-0658849d-046c-4f84-ad70-6790683985dc\">\n",
              "      <button class=\"colab-df-quickchart\" onclick=\"quickchart('df-0658849d-046c-4f84-ad70-6790683985dc')\"\n",
              "              title=\"Suggest charts.\"\n",
              "              style=\"display:none;\">\n",
              "\n",
              "<svg xmlns=\"http://www.w3.org/2000/svg\" height=\"24px\"viewBox=\"0 0 24 24\"\n",
              "     width=\"24px\">\n",
              "    <g>\n",
              "        <path d=\"M19 3H5c-1.1 0-2 .9-2 2v14c0 1.1.9 2 2 2h14c1.1 0 2-.9 2-2V5c0-1.1-.9-2-2-2zM9 17H7v-7h2v7zm4 0h-2V7h2v10zm4 0h-2v-4h2v4z\"/>\n",
              "    </g>\n",
              "</svg>\n",
              "      </button>\n",
              "    </div>\n",
              "\n",
              "<style>\n",
              "  .colab-df-quickchart {\n",
              "    background-color: #E8F0FE;\n",
              "    border: none;\n",
              "    border-radius: 50%;\n",
              "    cursor: pointer;\n",
              "    display: none;\n",
              "    fill: #1967D2;\n",
              "    height: 32px;\n",
              "    padding: 0 0 0 0;\n",
              "    width: 32px;\n",
              "  }\n",
              "\n",
              "  .colab-df-quickchart:hover {\n",
              "    background-color: #E2EBFA;\n",
              "    box-shadow: 0px 1px 2px rgba(60, 64, 67, 0.3), 0px 1px 3px 1px rgba(60, 64, 67, 0.15);\n",
              "    fill: #174EA6;\n",
              "  }\n",
              "\n",
              "  [theme=dark] .colab-df-quickchart {\n",
              "    background-color: #3B4455;\n",
              "    fill: #D2E3FC;\n",
              "  }\n",
              "\n",
              "  [theme=dark] .colab-df-quickchart:hover {\n",
              "    background-color: #434B5C;\n",
              "    box-shadow: 0px 1px 3px 1px rgba(0, 0, 0, 0.15);\n",
              "    filter: drop-shadow(0px 1px 2px rgba(0, 0, 0, 0.3));\n",
              "    fill: #FFFFFF;\n",
              "  }\n",
              "</style>\n",
              "\n",
              "    <script>\n",
              "      async function quickchart(key) {\n",
              "        const containerElement = document.querySelector('#' + key);\n",
              "        const charts = await google.colab.kernel.invokeFunction(\n",
              "            'suggestCharts', [key], {});\n",
              "      }\n",
              "    </script>\n",
              "\n",
              "      <script>\n",
              "\n",
              "function displayQuickchartButton(domScope) {\n",
              "  let quickchartButtonEl =\n",
              "    domScope.querySelector('#df-0658849d-046c-4f84-ad70-6790683985dc button.colab-df-quickchart');\n",
              "  quickchartButtonEl.style.display =\n",
              "    google.colab.kernel.accessAllowed ? 'block' : 'none';\n",
              "}\n",
              "\n",
              "        displayQuickchartButton(document);\n",
              "      </script>\n",
              "      <style>\n",
              "    .colab-df-container {\n",
              "      display:flex;\n",
              "      flex-wrap:wrap;\n",
              "      gap: 12px;\n",
              "    }\n",
              "\n",
              "    .colab-df-convert {\n",
              "      background-color: #E8F0FE;\n",
              "      border: none;\n",
              "      border-radius: 50%;\n",
              "      cursor: pointer;\n",
              "      display: none;\n",
              "      fill: #1967D2;\n",
              "      height: 32px;\n",
              "      padding: 0 0 0 0;\n",
              "      width: 32px;\n",
              "    }\n",
              "\n",
              "    .colab-df-convert:hover {\n",
              "      background-color: #E2EBFA;\n",
              "      box-shadow: 0px 1px 2px rgba(60, 64, 67, 0.3), 0px 1px 3px 1px rgba(60, 64, 67, 0.15);\n",
              "      fill: #174EA6;\n",
              "    }\n",
              "\n",
              "    [theme=dark] .colab-df-convert {\n",
              "      background-color: #3B4455;\n",
              "      fill: #D2E3FC;\n",
              "    }\n",
              "\n",
              "    [theme=dark] .colab-df-convert:hover {\n",
              "      background-color: #434B5C;\n",
              "      box-shadow: 0px 1px 3px 1px rgba(0, 0, 0, 0.15);\n",
              "      filter: drop-shadow(0px 1px 2px rgba(0, 0, 0, 0.3));\n",
              "      fill: #FFFFFF;\n",
              "    }\n",
              "  </style>\n",
              "\n",
              "      <script>\n",
              "        const buttonEl =\n",
              "          document.querySelector('#df-d25be89a-2c31-46dc-bc69-721cc6b4b0d7 button.colab-df-convert');\n",
              "        buttonEl.style.display =\n",
              "          google.colab.kernel.accessAllowed ? 'block' : 'none';\n",
              "\n",
              "        async function convertToInteractive(key) {\n",
              "          const element = document.querySelector('#df-d25be89a-2c31-46dc-bc69-721cc6b4b0d7');\n",
              "          const dataTable =\n",
              "            await google.colab.kernel.invokeFunction('convertToInteractive',\n",
              "                                                     [key], {});\n",
              "          if (!dataTable) return;\n",
              "\n",
              "          const docLinkHtml = 'Like what you see? Visit the ' +\n",
              "            '<a target=\"_blank\" href=https://colab.research.google.com/notebooks/data_table.ipynb>data table notebook</a>'\n",
              "            + ' to learn more about interactive tables.';\n",
              "          element.innerHTML = '';\n",
              "          dataTable['output_type'] = 'display_data';\n",
              "          await google.colab.output.renderOutput(dataTable, element);\n",
              "          const docLink = document.createElement('div');\n",
              "          docLink.innerHTML = docLinkHtml;\n",
              "          element.appendChild(docLink);\n",
              "        }\n",
              "      </script>\n",
              "    </div>\n",
              "  </div>\n"
            ]
          },
          "metadata": {},
          "execution_count": 5
        }
      ]
    },
    {
      "cell_type": "code",
      "source": [
        "df.info()"
      ],
      "metadata": {
        "colab": {
          "base_uri": "https://localhost:8080/"
        },
        "id": "rc4oScS2Wr4m",
        "outputId": "5820dbad-f146-47ea-9080-9bc53d9b2637"
      },
      "execution_count": 6,
      "outputs": [
        {
          "output_type": "stream",
          "name": "stdout",
          "text": [
            "<class 'pandas.core.frame.DataFrame'>\n",
            "RangeIndex: 4269 entries, 0 to 4268\n",
            "Data columns (total 13 columns):\n",
            " #   Column                    Non-Null Count  Dtype \n",
            "---  ------                    --------------  ----- \n",
            " 0   loan_id                   4269 non-null   int64 \n",
            " 1   no_of_dependents          4269 non-null   int64 \n",
            " 2   education                 4269 non-null   object\n",
            " 3   self_employed             4269 non-null   object\n",
            " 4   income_annum              4269 non-null   int64 \n",
            " 5   loan_amount               4269 non-null   int64 \n",
            " 6   loan_term                 4269 non-null   int64 \n",
            " 7   cibil_score               4269 non-null   int64 \n",
            " 8   residential_assets_value  4269 non-null   int64 \n",
            " 9   commercial_assets_value   4269 non-null   int64 \n",
            " 10  luxury_assets_value       4269 non-null   int64 \n",
            " 11  bank_asset_value          4269 non-null   int64 \n",
            " 12  loan_status               4269 non-null   object\n",
            "dtypes: int64(10), object(3)\n",
            "memory usage: 433.7+ KB\n"
          ]
        }
      ]
    },
    {
      "cell_type": "code",
      "source": [
        "df.isna().sum()"
      ],
      "metadata": {
        "colab": {
          "base_uri": "https://localhost:8080/"
        },
        "id": "RtUWmkMMXrCg",
        "outputId": "b5df27bc-141a-4130-98f9-fdd3b791709f"
      },
      "execution_count": 7,
      "outputs": [
        {
          "output_type": "execute_result",
          "data": {
            "text/plain": [
              "loan_id                     0\n",
              "no_of_dependents            0\n",
              "education                   0\n",
              "self_employed               0\n",
              "income_annum                0\n",
              "loan_amount                 0\n",
              "loan_term                   0\n",
              "cibil_score                 0\n",
              "residential_assets_value    0\n",
              "commercial_assets_value     0\n",
              "luxury_assets_value         0\n",
              "bank_asset_value            0\n",
              "loan_status                 0\n",
              "dtype: int64"
            ]
          },
          "metadata": {},
          "execution_count": 7
        }
      ]
    },
    {
      "cell_type": "code",
      "source": [
        "df.columns"
      ],
      "metadata": {
        "colab": {
          "base_uri": "https://localhost:8080/"
        },
        "id": "BI7SLfRAXvUY",
        "outputId": "35263b97-2fcf-413d-cb96-7c16185b86aa"
      },
      "execution_count": 8,
      "outputs": [
        {
          "output_type": "execute_result",
          "data": {
            "text/plain": [
              "Index(['loan_id', 'no_of_dependents', 'education', 'self_employed',\n",
              "       'income_annum', 'loan_amount', 'loan_term', 'cibil_score',\n",
              "       'residential_assets_value', 'commercial_assets_value',\n",
              "       'luxury_assets_value', 'bank_asset_value', 'loan_status'],\n",
              "      dtype='object')"
            ]
          },
          "metadata": {},
          "execution_count": 8
        }
      ]
    },
    {
      "cell_type": "code",
      "source": [
        "numeric_cols = df.select_dtypes(include=np.number).columns.tolist()\n",
        "categorical_cols = df.select_dtypes(include='object').columns.tolist()"
      ],
      "metadata": {
        "id": "F2qylfNpX_w8"
      },
      "execution_count": 9,
      "outputs": []
    },
    {
      "cell_type": "code",
      "source": [
        "numeric_cols"
      ],
      "metadata": {
        "colab": {
          "base_uri": "https://localhost:8080/"
        },
        "id": "_0o5Dr9ZY3ux",
        "outputId": "36d8caf3-83d8-4d0f-b5e8-e9e156e67fec"
      },
      "execution_count": 10,
      "outputs": [
        {
          "output_type": "execute_result",
          "data": {
            "text/plain": [
              "['loan_id',\n",
              " 'no_of_dependents',\n",
              " 'income_annum',\n",
              " 'loan_amount',\n",
              " 'loan_term',\n",
              " 'cibil_score',\n",
              " 'residential_assets_value',\n",
              " 'commercial_assets_value',\n",
              " 'luxury_assets_value',\n",
              " 'bank_asset_value']"
            ]
          },
          "metadata": {},
          "execution_count": 10
        }
      ]
    },
    {
      "cell_type": "code",
      "source": [
        "categorical_cols"
      ],
      "metadata": {
        "colab": {
          "base_uri": "https://localhost:8080/"
        },
        "id": "kmdsLNUmY9qt",
        "outputId": "65c6db7e-9aa8-407e-c84b-0a3df50b24a6"
      },
      "execution_count": 11,
      "outputs": [
        {
          "output_type": "execute_result",
          "data": {
            "text/plain": [
              "['education', 'self_employed', 'loan_status']"
            ]
          },
          "metadata": {},
          "execution_count": 11
        }
      ]
    },
    {
      "cell_type": "code",
      "source": [
        "for cols in categorical_cols:\n",
        "  print(np.unique(df[cols]))"
      ],
      "metadata": {
        "colab": {
          "base_uri": "https://localhost:8080/"
        },
        "id": "Hqcj3kvkZB8j",
        "outputId": "bcc7e690-4167-48b0-f009-2b796e8665a6"
      },
      "execution_count": 12,
      "outputs": [
        {
          "output_type": "stream",
          "name": "stdout",
          "text": [
            "[' Graduate' ' Not Graduate']\n",
            "[' No' ' Yes']\n",
            "[' Approved' ' Rejected']\n"
          ]
        }
      ]
    },
    {
      "cell_type": "markdown",
      "source": [
        "We can perform label encoding on the catgorical data"
      ],
      "metadata": {
        "id": "NPW5uJ-zZjEu"
      }
    },
    {
      "cell_type": "code",
      "source": [
        "from sklearn import preprocessing"
      ],
      "metadata": {
        "id": "khZXoNyORPco"
      },
      "execution_count": 13,
      "outputs": []
    },
    {
      "cell_type": "code",
      "source": [
        "label_encoder = preprocessing.LabelEncoder()"
      ],
      "metadata": {
        "id": "biFvGxsYUgr7"
      },
      "execution_count": 14,
      "outputs": []
    },
    {
      "cell_type": "code",
      "source": [
        "df[\"education\"] = label_encoder.fit_transform(df[\"education\"])\n",
        "df[\"self_employed\"] = label_encoder.fit_transform(df[\"self_employed\"])\n",
        "df[\"loan_status\"] = label_encoder.fit_transform(df[\"loan_status\"])"
      ],
      "metadata": {
        "id": "A8bEYdAmUjP-"
      },
      "execution_count": 16,
      "outputs": []
    },
    {
      "cell_type": "code",
      "source": [
        "df"
      ],
      "metadata": {
        "colab": {
          "base_uri": "https://localhost:8080/",
          "height": 487
        },
        "id": "KNNNoFspeHj5",
        "outputId": "7a35fa60-ef1e-44e7-fb27-18019579cdfa"
      },
      "execution_count": 17,
      "outputs": [
        {
          "output_type": "execute_result",
          "data": {
            "text/plain": [
              "      loan_id  no_of_dependents  education  self_employed  income_annum  \\\n",
              "0           1                 2          0              0       9600000   \n",
              "1           2                 0          1              1       4100000   \n",
              "2           3                 3          0              0       9100000   \n",
              "3           4                 3          0              0       8200000   \n",
              "4           5                 5          1              1       9800000   \n",
              "...       ...               ...        ...            ...           ...   \n",
              "4264     4265                 5          0              1       1000000   \n",
              "4265     4266                 0          1              1       3300000   \n",
              "4266     4267                 2          1              0       6500000   \n",
              "4267     4268                 1          1              0       4100000   \n",
              "4268     4269                 1          0              0       9200000   \n",
              "\n",
              "      loan_amount  loan_term  cibil_score  residential_assets_value  \\\n",
              "0        29900000         12          778                   2400000   \n",
              "1        12200000          8          417                   2700000   \n",
              "2        29700000         20          506                   7100000   \n",
              "3        30700000          8          467                  18200000   \n",
              "4        24200000         20          382                  12400000   \n",
              "...           ...        ...          ...                       ...   \n",
              "4264      2300000         12          317                   2800000   \n",
              "4265     11300000         20          559                   4200000   \n",
              "4266     23900000         18          457                   1200000   \n",
              "4267     12800000          8          780                   8200000   \n",
              "4268     29700000         10          607                  17800000   \n",
              "\n",
              "      commercial_assets_value  luxury_assets_value  bank_asset_value  \\\n",
              "0                    17600000             22700000           8000000   \n",
              "1                     2200000              8800000           3300000   \n",
              "2                     4500000             33300000          12800000   \n",
              "3                     3300000             23300000           7900000   \n",
              "4                     8200000             29400000           5000000   \n",
              "...                       ...                  ...               ...   \n",
              "4264                   500000              3300000            800000   \n",
              "4265                  2900000             11000000           1900000   \n",
              "4266                 12400000             18100000           7300000   \n",
              "4267                   700000             14100000           5800000   \n",
              "4268                 11800000             35700000          12000000   \n",
              "\n",
              "      loan_status  \n",
              "0               0  \n",
              "1               1  \n",
              "2               1  \n",
              "3               1  \n",
              "4               1  \n",
              "...           ...  \n",
              "4264            1  \n",
              "4265            0  \n",
              "4266            1  \n",
              "4267            0  \n",
              "4268            0  \n",
              "\n",
              "[4269 rows x 13 columns]"
            ],
            "text/html": [
              "\n",
              "\n",
              "  <div id=\"df-164f6c74-1488-49c7-8c2c-c6da13df9bac\">\n",
              "    <div class=\"colab-df-container\">\n",
              "      <div>\n",
              "<style scoped>\n",
              "    .dataframe tbody tr th:only-of-type {\n",
              "        vertical-align: middle;\n",
              "    }\n",
              "\n",
              "    .dataframe tbody tr th {\n",
              "        vertical-align: top;\n",
              "    }\n",
              "\n",
              "    .dataframe thead th {\n",
              "        text-align: right;\n",
              "    }\n",
              "</style>\n",
              "<table border=\"1\" class=\"dataframe\">\n",
              "  <thead>\n",
              "    <tr style=\"text-align: right;\">\n",
              "      <th></th>\n",
              "      <th>loan_id</th>\n",
              "      <th>no_of_dependents</th>\n",
              "      <th>education</th>\n",
              "      <th>self_employed</th>\n",
              "      <th>income_annum</th>\n",
              "      <th>loan_amount</th>\n",
              "      <th>loan_term</th>\n",
              "      <th>cibil_score</th>\n",
              "      <th>residential_assets_value</th>\n",
              "      <th>commercial_assets_value</th>\n",
              "      <th>luxury_assets_value</th>\n",
              "      <th>bank_asset_value</th>\n",
              "      <th>loan_status</th>\n",
              "    </tr>\n",
              "  </thead>\n",
              "  <tbody>\n",
              "    <tr>\n",
              "      <th>0</th>\n",
              "      <td>1</td>\n",
              "      <td>2</td>\n",
              "      <td>0</td>\n",
              "      <td>0</td>\n",
              "      <td>9600000</td>\n",
              "      <td>29900000</td>\n",
              "      <td>12</td>\n",
              "      <td>778</td>\n",
              "      <td>2400000</td>\n",
              "      <td>17600000</td>\n",
              "      <td>22700000</td>\n",
              "      <td>8000000</td>\n",
              "      <td>0</td>\n",
              "    </tr>\n",
              "    <tr>\n",
              "      <th>1</th>\n",
              "      <td>2</td>\n",
              "      <td>0</td>\n",
              "      <td>1</td>\n",
              "      <td>1</td>\n",
              "      <td>4100000</td>\n",
              "      <td>12200000</td>\n",
              "      <td>8</td>\n",
              "      <td>417</td>\n",
              "      <td>2700000</td>\n",
              "      <td>2200000</td>\n",
              "      <td>8800000</td>\n",
              "      <td>3300000</td>\n",
              "      <td>1</td>\n",
              "    </tr>\n",
              "    <tr>\n",
              "      <th>2</th>\n",
              "      <td>3</td>\n",
              "      <td>3</td>\n",
              "      <td>0</td>\n",
              "      <td>0</td>\n",
              "      <td>9100000</td>\n",
              "      <td>29700000</td>\n",
              "      <td>20</td>\n",
              "      <td>506</td>\n",
              "      <td>7100000</td>\n",
              "      <td>4500000</td>\n",
              "      <td>33300000</td>\n",
              "      <td>12800000</td>\n",
              "      <td>1</td>\n",
              "    </tr>\n",
              "    <tr>\n",
              "      <th>3</th>\n",
              "      <td>4</td>\n",
              "      <td>3</td>\n",
              "      <td>0</td>\n",
              "      <td>0</td>\n",
              "      <td>8200000</td>\n",
              "      <td>30700000</td>\n",
              "      <td>8</td>\n",
              "      <td>467</td>\n",
              "      <td>18200000</td>\n",
              "      <td>3300000</td>\n",
              "      <td>23300000</td>\n",
              "      <td>7900000</td>\n",
              "      <td>1</td>\n",
              "    </tr>\n",
              "    <tr>\n",
              "      <th>4</th>\n",
              "      <td>5</td>\n",
              "      <td>5</td>\n",
              "      <td>1</td>\n",
              "      <td>1</td>\n",
              "      <td>9800000</td>\n",
              "      <td>24200000</td>\n",
              "      <td>20</td>\n",
              "      <td>382</td>\n",
              "      <td>12400000</td>\n",
              "      <td>8200000</td>\n",
              "      <td>29400000</td>\n",
              "      <td>5000000</td>\n",
              "      <td>1</td>\n",
              "    </tr>\n",
              "    <tr>\n",
              "      <th>...</th>\n",
              "      <td>...</td>\n",
              "      <td>...</td>\n",
              "      <td>...</td>\n",
              "      <td>...</td>\n",
              "      <td>...</td>\n",
              "      <td>...</td>\n",
              "      <td>...</td>\n",
              "      <td>...</td>\n",
              "      <td>...</td>\n",
              "      <td>...</td>\n",
              "      <td>...</td>\n",
              "      <td>...</td>\n",
              "      <td>...</td>\n",
              "    </tr>\n",
              "    <tr>\n",
              "      <th>4264</th>\n",
              "      <td>4265</td>\n",
              "      <td>5</td>\n",
              "      <td>0</td>\n",
              "      <td>1</td>\n",
              "      <td>1000000</td>\n",
              "      <td>2300000</td>\n",
              "      <td>12</td>\n",
              "      <td>317</td>\n",
              "      <td>2800000</td>\n",
              "      <td>500000</td>\n",
              "      <td>3300000</td>\n",
              "      <td>800000</td>\n",
              "      <td>1</td>\n",
              "    </tr>\n",
              "    <tr>\n",
              "      <th>4265</th>\n",
              "      <td>4266</td>\n",
              "      <td>0</td>\n",
              "      <td>1</td>\n",
              "      <td>1</td>\n",
              "      <td>3300000</td>\n",
              "      <td>11300000</td>\n",
              "      <td>20</td>\n",
              "      <td>559</td>\n",
              "      <td>4200000</td>\n",
              "      <td>2900000</td>\n",
              "      <td>11000000</td>\n",
              "      <td>1900000</td>\n",
              "      <td>0</td>\n",
              "    </tr>\n",
              "    <tr>\n",
              "      <th>4266</th>\n",
              "      <td>4267</td>\n",
              "      <td>2</td>\n",
              "      <td>1</td>\n",
              "      <td>0</td>\n",
              "      <td>6500000</td>\n",
              "      <td>23900000</td>\n",
              "      <td>18</td>\n",
              "      <td>457</td>\n",
              "      <td>1200000</td>\n",
              "      <td>12400000</td>\n",
              "      <td>18100000</td>\n",
              "      <td>7300000</td>\n",
              "      <td>1</td>\n",
              "    </tr>\n",
              "    <tr>\n",
              "      <th>4267</th>\n",
              "      <td>4268</td>\n",
              "      <td>1</td>\n",
              "      <td>1</td>\n",
              "      <td>0</td>\n",
              "      <td>4100000</td>\n",
              "      <td>12800000</td>\n",
              "      <td>8</td>\n",
              "      <td>780</td>\n",
              "      <td>8200000</td>\n",
              "      <td>700000</td>\n",
              "      <td>14100000</td>\n",
              "      <td>5800000</td>\n",
              "      <td>0</td>\n",
              "    </tr>\n",
              "    <tr>\n",
              "      <th>4268</th>\n",
              "      <td>4269</td>\n",
              "      <td>1</td>\n",
              "      <td>0</td>\n",
              "      <td>0</td>\n",
              "      <td>9200000</td>\n",
              "      <td>29700000</td>\n",
              "      <td>10</td>\n",
              "      <td>607</td>\n",
              "      <td>17800000</td>\n",
              "      <td>11800000</td>\n",
              "      <td>35700000</td>\n",
              "      <td>12000000</td>\n",
              "      <td>0</td>\n",
              "    </tr>\n",
              "  </tbody>\n",
              "</table>\n",
              "<p>4269 rows × 13 columns</p>\n",
              "</div>\n",
              "      <button class=\"colab-df-convert\" onclick=\"convertToInteractive('df-164f6c74-1488-49c7-8c2c-c6da13df9bac')\"\n",
              "              title=\"Convert this dataframe to an interactive table.\"\n",
              "              style=\"display:none;\">\n",
              "\n",
              "  <svg xmlns=\"http://www.w3.org/2000/svg\" height=\"24px\"viewBox=\"0 0 24 24\"\n",
              "       width=\"24px\">\n",
              "    <path d=\"M0 0h24v24H0V0z\" fill=\"none\"/>\n",
              "    <path d=\"M18.56 5.44l.94 2.06.94-2.06 2.06-.94-2.06-.94-.94-2.06-.94 2.06-2.06.94zm-11 1L8.5 8.5l.94-2.06 2.06-.94-2.06-.94L8.5 2.5l-.94 2.06-2.06.94zm10 10l.94 2.06.94-2.06 2.06-.94-2.06-.94-.94-2.06-.94 2.06-2.06.94z\"/><path d=\"M17.41 7.96l-1.37-1.37c-.4-.4-.92-.59-1.43-.59-.52 0-1.04.2-1.43.59L10.3 9.45l-7.72 7.72c-.78.78-.78 2.05 0 2.83L4 21.41c.39.39.9.59 1.41.59.51 0 1.02-.2 1.41-.59l7.78-7.78 2.81-2.81c.8-.78.8-2.07 0-2.86zM5.41 20L4 18.59l7.72-7.72 1.47 1.35L5.41 20z\"/>\n",
              "  </svg>\n",
              "      </button>\n",
              "\n",
              "\n",
              "\n",
              "    <div id=\"df-3fc3eae8-1816-4cf4-ab62-16ec67c241ef\">\n",
              "      <button class=\"colab-df-quickchart\" onclick=\"quickchart('df-3fc3eae8-1816-4cf4-ab62-16ec67c241ef')\"\n",
              "              title=\"Suggest charts.\"\n",
              "              style=\"display:none;\">\n",
              "\n",
              "<svg xmlns=\"http://www.w3.org/2000/svg\" height=\"24px\"viewBox=\"0 0 24 24\"\n",
              "     width=\"24px\">\n",
              "    <g>\n",
              "        <path d=\"M19 3H5c-1.1 0-2 .9-2 2v14c0 1.1.9 2 2 2h14c1.1 0 2-.9 2-2V5c0-1.1-.9-2-2-2zM9 17H7v-7h2v7zm4 0h-2V7h2v10zm4 0h-2v-4h2v4z\"/>\n",
              "    </g>\n",
              "</svg>\n",
              "      </button>\n",
              "    </div>\n",
              "\n",
              "<style>\n",
              "  .colab-df-quickchart {\n",
              "    background-color: #E8F0FE;\n",
              "    border: none;\n",
              "    border-radius: 50%;\n",
              "    cursor: pointer;\n",
              "    display: none;\n",
              "    fill: #1967D2;\n",
              "    height: 32px;\n",
              "    padding: 0 0 0 0;\n",
              "    width: 32px;\n",
              "  }\n",
              "\n",
              "  .colab-df-quickchart:hover {\n",
              "    background-color: #E2EBFA;\n",
              "    box-shadow: 0px 1px 2px rgba(60, 64, 67, 0.3), 0px 1px 3px 1px rgba(60, 64, 67, 0.15);\n",
              "    fill: #174EA6;\n",
              "  }\n",
              "\n",
              "  [theme=dark] .colab-df-quickchart {\n",
              "    background-color: #3B4455;\n",
              "    fill: #D2E3FC;\n",
              "  }\n",
              "\n",
              "  [theme=dark] .colab-df-quickchart:hover {\n",
              "    background-color: #434B5C;\n",
              "    box-shadow: 0px 1px 3px 1px rgba(0, 0, 0, 0.15);\n",
              "    filter: drop-shadow(0px 1px 2px rgba(0, 0, 0, 0.3));\n",
              "    fill: #FFFFFF;\n",
              "  }\n",
              "</style>\n",
              "\n",
              "    <script>\n",
              "      async function quickchart(key) {\n",
              "        const containerElement = document.querySelector('#' + key);\n",
              "        const charts = await google.colab.kernel.invokeFunction(\n",
              "            'suggestCharts', [key], {});\n",
              "      }\n",
              "    </script>\n",
              "\n",
              "      <script>\n",
              "\n",
              "function displayQuickchartButton(domScope) {\n",
              "  let quickchartButtonEl =\n",
              "    domScope.querySelector('#df-3fc3eae8-1816-4cf4-ab62-16ec67c241ef button.colab-df-quickchart');\n",
              "  quickchartButtonEl.style.display =\n",
              "    google.colab.kernel.accessAllowed ? 'block' : 'none';\n",
              "}\n",
              "\n",
              "        displayQuickchartButton(document);\n",
              "      </script>\n",
              "      <style>\n",
              "    .colab-df-container {\n",
              "      display:flex;\n",
              "      flex-wrap:wrap;\n",
              "      gap: 12px;\n",
              "    }\n",
              "\n",
              "    .colab-df-convert {\n",
              "      background-color: #E8F0FE;\n",
              "      border: none;\n",
              "      border-radius: 50%;\n",
              "      cursor: pointer;\n",
              "      display: none;\n",
              "      fill: #1967D2;\n",
              "      height: 32px;\n",
              "      padding: 0 0 0 0;\n",
              "      width: 32px;\n",
              "    }\n",
              "\n",
              "    .colab-df-convert:hover {\n",
              "      background-color: #E2EBFA;\n",
              "      box-shadow: 0px 1px 2px rgba(60, 64, 67, 0.3), 0px 1px 3px 1px rgba(60, 64, 67, 0.15);\n",
              "      fill: #174EA6;\n",
              "    }\n",
              "\n",
              "    [theme=dark] .colab-df-convert {\n",
              "      background-color: #3B4455;\n",
              "      fill: #D2E3FC;\n",
              "    }\n",
              "\n",
              "    [theme=dark] .colab-df-convert:hover {\n",
              "      background-color: #434B5C;\n",
              "      box-shadow: 0px 1px 3px 1px rgba(0, 0, 0, 0.15);\n",
              "      filter: drop-shadow(0px 1px 2px rgba(0, 0, 0, 0.3));\n",
              "      fill: #FFFFFF;\n",
              "    }\n",
              "  </style>\n",
              "\n",
              "      <script>\n",
              "        const buttonEl =\n",
              "          document.querySelector('#df-164f6c74-1488-49c7-8c2c-c6da13df9bac button.colab-df-convert');\n",
              "        buttonEl.style.display =\n",
              "          google.colab.kernel.accessAllowed ? 'block' : 'none';\n",
              "\n",
              "        async function convertToInteractive(key) {\n",
              "          const element = document.querySelector('#df-164f6c74-1488-49c7-8c2c-c6da13df9bac');\n",
              "          const dataTable =\n",
              "            await google.colab.kernel.invokeFunction('convertToInteractive',\n",
              "                                                     [key], {});\n",
              "          if (!dataTable) return;\n",
              "\n",
              "          const docLinkHtml = 'Like what you see? Visit the ' +\n",
              "            '<a target=\"_blank\" href=https://colab.research.google.com/notebooks/data_table.ipynb>data table notebook</a>'\n",
              "            + ' to learn more about interactive tables.';\n",
              "          element.innerHTML = '';\n",
              "          dataTable['output_type'] = 'display_data';\n",
              "          await google.colab.output.renderOutput(dataTable, element);\n",
              "          const docLink = document.createElement('div');\n",
              "          docLink.innerHTML = docLinkHtml;\n",
              "          element.appendChild(docLink);\n",
              "        }\n",
              "      </script>\n",
              "    </div>\n",
              "  </div>\n"
            ]
          },
          "metadata": {},
          "execution_count": 17
        }
      ]
    },
    {
      "cell_type": "markdown",
      "source": [
        "We can now prepare our input and target columns"
      ],
      "metadata": {
        "id": "_5zvmM-JeMg8"
      }
    },
    {
      "cell_type": "code",
      "source": [
        "input_cols=df.columns[1:-1]\n",
        "input_cols"
      ],
      "metadata": {
        "colab": {
          "base_uri": "https://localhost:8080/"
        },
        "id": "6-ycwWOheIWR",
        "outputId": "81964038-5473-429a-ae27-eeb21647b241"
      },
      "execution_count": 18,
      "outputs": [
        {
          "output_type": "execute_result",
          "data": {
            "text/plain": [
              "Index(['no_of_dependents', 'education', 'self_employed', 'income_annum',\n",
              "       'loan_amount', 'loan_term', 'cibil_score', 'residential_assets_value',\n",
              "       'commercial_assets_value', 'luxury_assets_value', 'bank_asset_value'],\n",
              "      dtype='object')"
            ]
          },
          "metadata": {},
          "execution_count": 18
        }
      ]
    },
    {
      "cell_type": "code",
      "source": [
        "target_col=df.columns[-1]\n",
        "target_col"
      ],
      "metadata": {
        "colab": {
          "base_uri": "https://localhost:8080/",
          "height": 36
        },
        "id": "qf6NndczfIKZ",
        "outputId": "0d6c3aa7-9349-47e3-9e19-0e7881ecae91"
      },
      "execution_count": 19,
      "outputs": [
        {
          "output_type": "execute_result",
          "data": {
            "text/plain": [
              "'loan_status'"
            ],
            "application/vnd.google.colaboratory.intrinsic+json": {
              "type": "string"
            }
          },
          "metadata": {},
          "execution_count": 19
        }
      ]
    },
    {
      "cell_type": "code",
      "source": [
        "inputs_df=df[input_cols]"
      ],
      "metadata": {
        "id": "iE9tq6YKgG51"
      },
      "execution_count": 20,
      "outputs": []
    },
    {
      "cell_type": "code",
      "source": [
        "targets=df[target_col]"
      ],
      "metadata": {
        "id": "uQU_hcRlgGgY"
      },
      "execution_count": 21,
      "outputs": []
    },
    {
      "cell_type": "code",
      "source": [
        "from sklearn.model_selection import train_test_split\n",
        "\n",
        "train_inputs, val_inputs, train_targets, val_targets = train_test_split(\n",
        "inputs_df[input_cols], targets, test_size=0.25, random_state=42)"
      ],
      "metadata": {
        "id": "QZKuEs2lf-yJ"
      },
      "execution_count": 22,
      "outputs": []
    },
    {
      "cell_type": "markdown",
      "source": [
        "# Model Training"
      ],
      "metadata": {
        "id": "JB-ZnKhLgnoD"
      }
    },
    {
      "cell_type": "markdown",
      "source": [
        "Training a Simple Logistic Regression Model"
      ],
      "metadata": {
        "id": "54G3ZdGbfpB9"
      }
    },
    {
      "cell_type": "code",
      "source": [
        "from sklearn.linear_model import LogisticRegression"
      ],
      "metadata": {
        "id": "s7_eYERvfOGj"
      },
      "execution_count": null,
      "outputs": []
    },
    {
      "cell_type": "code",
      "source": [
        "log_model = LogisticRegression()"
      ],
      "metadata": {
        "id": "X3NpGWV6fzI8"
      },
      "execution_count": null,
      "outputs": []
    },
    {
      "cell_type": "code",
      "source": [
        "%%time\n",
        "log_model.fit(train_inputs, train_targets)"
      ],
      "metadata": {
        "colab": {
          "base_uri": "https://localhost:8080/",
          "height": 109
        },
        "id": "XF_T8qgDf3E6",
        "outputId": "5ff1bb5d-2ef5-4234-d76e-b8ec229f06c8"
      },
      "execution_count": null,
      "outputs": [
        {
          "output_type": "stream",
          "name": "stdout",
          "text": [
            "CPU times: user 23.1 ms, sys: 27.1 ms, total: 50.2 ms\n",
            "Wall time: 40.3 ms\n"
          ]
        },
        {
          "output_type": "execute_result",
          "data": {
            "text/plain": [
              "LogisticRegression()"
            ],
            "text/html": [
              "<style>#sk-container-id-2 {color: black;background-color: white;}#sk-container-id-2 pre{padding: 0;}#sk-container-id-2 div.sk-toggleable {background-color: white;}#sk-container-id-2 label.sk-toggleable__label {cursor: pointer;display: block;width: 100%;margin-bottom: 0;padding: 0.3em;box-sizing: border-box;text-align: center;}#sk-container-id-2 label.sk-toggleable__label-arrow:before {content: \"▸\";float: left;margin-right: 0.25em;color: #696969;}#sk-container-id-2 label.sk-toggleable__label-arrow:hover:before {color: black;}#sk-container-id-2 div.sk-estimator:hover label.sk-toggleable__label-arrow:before {color: black;}#sk-container-id-2 div.sk-toggleable__content {max-height: 0;max-width: 0;overflow: hidden;text-align: left;background-color: #f0f8ff;}#sk-container-id-2 div.sk-toggleable__content pre {margin: 0.2em;color: black;border-radius: 0.25em;background-color: #f0f8ff;}#sk-container-id-2 input.sk-toggleable__control:checked~div.sk-toggleable__content {max-height: 200px;max-width: 100%;overflow: auto;}#sk-container-id-2 input.sk-toggleable__control:checked~label.sk-toggleable__label-arrow:before {content: \"▾\";}#sk-container-id-2 div.sk-estimator input.sk-toggleable__control:checked~label.sk-toggleable__label {background-color: #d4ebff;}#sk-container-id-2 div.sk-label input.sk-toggleable__control:checked~label.sk-toggleable__label {background-color: #d4ebff;}#sk-container-id-2 input.sk-hidden--visually {border: 0;clip: rect(1px 1px 1px 1px);clip: rect(1px, 1px, 1px, 1px);height: 1px;margin: -1px;overflow: hidden;padding: 0;position: absolute;width: 1px;}#sk-container-id-2 div.sk-estimator {font-family: monospace;background-color: #f0f8ff;border: 1px dotted black;border-radius: 0.25em;box-sizing: border-box;margin-bottom: 0.5em;}#sk-container-id-2 div.sk-estimator:hover {background-color: #d4ebff;}#sk-container-id-2 div.sk-parallel-item::after {content: \"\";width: 100%;border-bottom: 1px solid gray;flex-grow: 1;}#sk-container-id-2 div.sk-label:hover label.sk-toggleable__label {background-color: #d4ebff;}#sk-container-id-2 div.sk-serial::before {content: \"\";position: absolute;border-left: 1px solid gray;box-sizing: border-box;top: 0;bottom: 0;left: 50%;z-index: 0;}#sk-container-id-2 div.sk-serial {display: flex;flex-direction: column;align-items: center;background-color: white;padding-right: 0.2em;padding-left: 0.2em;position: relative;}#sk-container-id-2 div.sk-item {position: relative;z-index: 1;}#sk-container-id-2 div.sk-parallel {display: flex;align-items: stretch;justify-content: center;background-color: white;position: relative;}#sk-container-id-2 div.sk-item::before, #sk-container-id-2 div.sk-parallel-item::before {content: \"\";position: absolute;border-left: 1px solid gray;box-sizing: border-box;top: 0;bottom: 0;left: 50%;z-index: -1;}#sk-container-id-2 div.sk-parallel-item {display: flex;flex-direction: column;z-index: 1;position: relative;background-color: white;}#sk-container-id-2 div.sk-parallel-item:first-child::after {align-self: flex-end;width: 50%;}#sk-container-id-2 div.sk-parallel-item:last-child::after {align-self: flex-start;width: 50%;}#sk-container-id-2 div.sk-parallel-item:only-child::after {width: 0;}#sk-container-id-2 div.sk-dashed-wrapped {border: 1px dashed gray;margin: 0 0.4em 0.5em 0.4em;box-sizing: border-box;padding-bottom: 0.4em;background-color: white;}#sk-container-id-2 div.sk-label label {font-family: monospace;font-weight: bold;display: inline-block;line-height: 1.2em;}#sk-container-id-2 div.sk-label-container {text-align: center;}#sk-container-id-2 div.sk-container {/* jupyter's `normalize.less` sets `[hidden] { display: none; }` but bootstrap.min.css set `[hidden] { display: none !important; }` so we also need the `!important` here to be able to override the default hidden behavior on the sphinx rendered scikit-learn.org. See: https://github.com/scikit-learn/scikit-learn/issues/21755 */display: inline-block !important;position: relative;}#sk-container-id-2 div.sk-text-repr-fallback {display: none;}</style><div id=\"sk-container-id-2\" class=\"sk-top-container\"><div class=\"sk-text-repr-fallback\"><pre>LogisticRegression()</pre><b>In a Jupyter environment, please rerun this cell to show the HTML representation or trust the notebook. <br />On GitHub, the HTML representation is unable to render, please try loading this page with nbviewer.org.</b></div><div class=\"sk-container\" hidden><div class=\"sk-item\"><div class=\"sk-estimator sk-toggleable\"><input class=\"sk-toggleable__control sk-hidden--visually\" id=\"sk-estimator-id-2\" type=\"checkbox\" checked><label for=\"sk-estimator-id-2\" class=\"sk-toggleable__label sk-toggleable__label-arrow\">LogisticRegression</label><div class=\"sk-toggleable__content\"><pre>LogisticRegression()</pre></div></div></div></div></div>"
            ]
          },
          "metadata": {},
          "execution_count": 53
        }
      ]
    },
    {
      "cell_type": "code",
      "source": [
        "log_train_score=log_model.score(train_inputs,train_targets)"
      ],
      "metadata": {
        "id": "9bSJYuvlf5w9"
      },
      "execution_count": null,
      "outputs": []
    },
    {
      "cell_type": "code",
      "source": [
        "log_val_score = log_model.score(val_inputs,val_targets)"
      ],
      "metadata": {
        "id": "UIu6M6g9gTR4"
      },
      "execution_count": null,
      "outputs": []
    },
    {
      "cell_type": "code",
      "source": [
        "print('Train Accuracy: {}, Validation Accuracy: {}'.format(log_train_score, log_val_score))"
      ],
      "metadata": {
        "colab": {
          "base_uri": "https://localhost:8080/"
        },
        "id": "_Gz4netrgWe4",
        "outputId": "85054b2e-8f72-4532-9964-8c3e76becd66"
      },
      "execution_count": null,
      "outputs": [
        {
          "output_type": "stream",
          "name": "stdout",
          "text": [
            "Train Accuracy: 0.6166822867853796, Validation Accuracy: 0.6348314606741573\n"
          ]
        }
      ]
    },
    {
      "cell_type": "markdown",
      "source": [
        "We will try to get a better score"
      ],
      "metadata": {
        "id": "bjUQ1o_hgj0-"
      }
    },
    {
      "cell_type": "code",
      "source": [
        "from sklearn.ensemble import RandomForestClassifier"
      ],
      "metadata": {
        "id": "iOlFkv2GgbID"
      },
      "execution_count": 23,
      "outputs": []
    },
    {
      "cell_type": "code",
      "source": [
        "rf1 = RandomForestClassifier(n_jobs=-1,random_state=42)"
      ],
      "metadata": {
        "id": "WDvlfIlggvyG"
      },
      "execution_count": 24,
      "outputs": []
    },
    {
      "cell_type": "code",
      "source": [
        "%%time\n",
        "rf1.fit(train_inputs,train_targets)"
      ],
      "metadata": {
        "colab": {
          "base_uri": "https://localhost:8080/",
          "height": 109
        },
        "id": "AU3zNtPPgy8f",
        "outputId": "8e57c808-13c8-4f5b-93f5-ea9543d54f86"
      },
      "execution_count": 25,
      "outputs": [
        {
          "output_type": "stream",
          "name": "stdout",
          "text": [
            "CPU times: user 550 ms, sys: 24.1 ms, total: 574 ms\n",
            "Wall time: 391 ms\n"
          ]
        },
        {
          "output_type": "execute_result",
          "data": {
            "text/plain": [
              "RandomForestClassifier(n_jobs=-1, random_state=42)"
            ],
            "text/html": [
              "<style>#sk-container-id-1 {color: black;background-color: white;}#sk-container-id-1 pre{padding: 0;}#sk-container-id-1 div.sk-toggleable {background-color: white;}#sk-container-id-1 label.sk-toggleable__label {cursor: pointer;display: block;width: 100%;margin-bottom: 0;padding: 0.3em;box-sizing: border-box;text-align: center;}#sk-container-id-1 label.sk-toggleable__label-arrow:before {content: \"▸\";float: left;margin-right: 0.25em;color: #696969;}#sk-container-id-1 label.sk-toggleable__label-arrow:hover:before {color: black;}#sk-container-id-1 div.sk-estimator:hover label.sk-toggleable__label-arrow:before {color: black;}#sk-container-id-1 div.sk-toggleable__content {max-height: 0;max-width: 0;overflow: hidden;text-align: left;background-color: #f0f8ff;}#sk-container-id-1 div.sk-toggleable__content pre {margin: 0.2em;color: black;border-radius: 0.25em;background-color: #f0f8ff;}#sk-container-id-1 input.sk-toggleable__control:checked~div.sk-toggleable__content {max-height: 200px;max-width: 100%;overflow: auto;}#sk-container-id-1 input.sk-toggleable__control:checked~label.sk-toggleable__label-arrow:before {content: \"▾\";}#sk-container-id-1 div.sk-estimator input.sk-toggleable__control:checked~label.sk-toggleable__label {background-color: #d4ebff;}#sk-container-id-1 div.sk-label input.sk-toggleable__control:checked~label.sk-toggleable__label {background-color: #d4ebff;}#sk-container-id-1 input.sk-hidden--visually {border: 0;clip: rect(1px 1px 1px 1px);clip: rect(1px, 1px, 1px, 1px);height: 1px;margin: -1px;overflow: hidden;padding: 0;position: absolute;width: 1px;}#sk-container-id-1 div.sk-estimator {font-family: monospace;background-color: #f0f8ff;border: 1px dotted black;border-radius: 0.25em;box-sizing: border-box;margin-bottom: 0.5em;}#sk-container-id-1 div.sk-estimator:hover {background-color: #d4ebff;}#sk-container-id-1 div.sk-parallel-item::after {content: \"\";width: 100%;border-bottom: 1px solid gray;flex-grow: 1;}#sk-container-id-1 div.sk-label:hover label.sk-toggleable__label {background-color: #d4ebff;}#sk-container-id-1 div.sk-serial::before {content: \"\";position: absolute;border-left: 1px solid gray;box-sizing: border-box;top: 0;bottom: 0;left: 50%;z-index: 0;}#sk-container-id-1 div.sk-serial {display: flex;flex-direction: column;align-items: center;background-color: white;padding-right: 0.2em;padding-left: 0.2em;position: relative;}#sk-container-id-1 div.sk-item {position: relative;z-index: 1;}#sk-container-id-1 div.sk-parallel {display: flex;align-items: stretch;justify-content: center;background-color: white;position: relative;}#sk-container-id-1 div.sk-item::before, #sk-container-id-1 div.sk-parallel-item::before {content: \"\";position: absolute;border-left: 1px solid gray;box-sizing: border-box;top: 0;bottom: 0;left: 50%;z-index: -1;}#sk-container-id-1 div.sk-parallel-item {display: flex;flex-direction: column;z-index: 1;position: relative;background-color: white;}#sk-container-id-1 div.sk-parallel-item:first-child::after {align-self: flex-end;width: 50%;}#sk-container-id-1 div.sk-parallel-item:last-child::after {align-self: flex-start;width: 50%;}#sk-container-id-1 div.sk-parallel-item:only-child::after {width: 0;}#sk-container-id-1 div.sk-dashed-wrapped {border: 1px dashed gray;margin: 0 0.4em 0.5em 0.4em;box-sizing: border-box;padding-bottom: 0.4em;background-color: white;}#sk-container-id-1 div.sk-label label {font-family: monospace;font-weight: bold;display: inline-block;line-height: 1.2em;}#sk-container-id-1 div.sk-label-container {text-align: center;}#sk-container-id-1 div.sk-container {/* jupyter's `normalize.less` sets `[hidden] { display: none; }` but bootstrap.min.css set `[hidden] { display: none !important; }` so we also need the `!important` here to be able to override the default hidden behavior on the sphinx rendered scikit-learn.org. See: https://github.com/scikit-learn/scikit-learn/issues/21755 */display: inline-block !important;position: relative;}#sk-container-id-1 div.sk-text-repr-fallback {display: none;}</style><div id=\"sk-container-id-1\" class=\"sk-top-container\"><div class=\"sk-text-repr-fallback\"><pre>RandomForestClassifier(n_jobs=-1, random_state=42)</pre><b>In a Jupyter environment, please rerun this cell to show the HTML representation or trust the notebook. <br />On GitHub, the HTML representation is unable to render, please try loading this page with nbviewer.org.</b></div><div class=\"sk-container\" hidden><div class=\"sk-item\"><div class=\"sk-estimator sk-toggleable\"><input class=\"sk-toggleable__control sk-hidden--visually\" id=\"sk-estimator-id-1\" type=\"checkbox\" checked><label for=\"sk-estimator-id-1\" class=\"sk-toggleable__label sk-toggleable__label-arrow\">RandomForestClassifier</label><div class=\"sk-toggleable__content\"><pre>RandomForestClassifier(n_jobs=-1, random_state=42)</pre></div></div></div></div></div>"
            ]
          },
          "metadata": {},
          "execution_count": 25
        }
      ]
    },
    {
      "cell_type": "code",
      "source": [
        "rf1_train_score=rf1.score(train_inputs,train_targets)"
      ],
      "metadata": {
        "id": "_zhjYn9yg1Q7"
      },
      "execution_count": 26,
      "outputs": []
    },
    {
      "cell_type": "code",
      "source": [
        "rf1_val_score=rf1.score(val_inputs,val_targets)"
      ],
      "metadata": {
        "id": "_j5v_X3mg5v3"
      },
      "execution_count": 27,
      "outputs": []
    },
    {
      "cell_type": "code",
      "source": [
        "print('Train Accuracy: {}, Validation Accuracy: {}'.format(rf1_train_score, rf1_val_score))"
      ],
      "metadata": {
        "colab": {
          "base_uri": "https://localhost:8080/"
        },
        "id": "pJObDMf3g8Zj",
        "outputId": "857fa4dc-0ece-40b1-87c7-38357a9b015e"
      },
      "execution_count": 28,
      "outputs": [
        {
          "output_type": "stream",
          "name": "stdout",
          "text": [
            "Train Accuracy: 1.0, Validation Accuracy: 0.9850187265917603\n"
          ]
        }
      ]
    },
    {
      "cell_type": "markdown",
      "source": [
        "# Saving Model"
      ],
      "metadata": {
        "id": "UvtUO-zvhcik"
      }
    },
    {
      "cell_type": "code",
      "source": [
        "import pickle"
      ],
      "metadata": {
        "id": "x1CB01SMJZDk"
      },
      "execution_count": 29,
      "outputs": []
    },
    {
      "cell_type": "code",
      "source": [
        "file_name = \"rf.pkl\"\n",
        "\n",
        "# save\n",
        "pickle.dump(rf1, open(file_name, \"wb\"))\n",
        "\n",
        "# load\n",
        "rf_model_loaded = pickle.load(open(file_name, \"rb\"))"
      ],
      "metadata": {
        "id": "T_o-YpIopShX"
      },
      "execution_count": 30,
      "outputs": []
    },
    {
      "cell_type": "code",
      "source": [
        "test_preds=rf_model_loaded.predict(val_inputs)"
      ],
      "metadata": {
        "id": "uW9jZMoCqXU_"
      },
      "execution_count": 31,
      "outputs": []
    },
    {
      "cell_type": "code",
      "source": [
        "test_target =[i for i in val_targets]"
      ],
      "metadata": {
        "id": "f8iVKzQmAu7z"
      },
      "execution_count": 32,
      "outputs": []
    },
    {
      "cell_type": "code",
      "source": [
        "np.array(test_target)"
      ],
      "metadata": {
        "colab": {
          "base_uri": "https://localhost:8080/"
        },
        "id": "r5q1w_tTAw9Y",
        "outputId": "1fbc1f3c-8e7c-4ac9-be7f-feccf5ad6fd7"
      },
      "execution_count": 33,
      "outputs": [
        {
          "output_type": "execute_result",
          "data": {
            "text/plain": [
              "array([1, 0, 1, ..., 0, 1, 1])"
            ]
          },
          "metadata": {},
          "execution_count": 33
        }
      ]
    },
    {
      "cell_type": "code",
      "source": [
        "test_preds"
      ],
      "metadata": {
        "colab": {
          "base_uri": "https://localhost:8080/"
        },
        "id": "H34OHro8hnIX",
        "outputId": "58d0e525-abb1-4595-db2a-639ca8c1a61e"
      },
      "execution_count": 34,
      "outputs": [
        {
          "output_type": "execute_result",
          "data": {
            "text/plain": [
              "array([1, 0, 1, ..., 0, 1, 1])"
            ]
          },
          "metadata": {},
          "execution_count": 34
        }
      ]
    },
    {
      "cell_type": "code",
      "source": [
        "from sklearn.metrics import mean_squared_error"
      ],
      "metadata": {
        "id": "TtklfZVlisb3"
      },
      "execution_count": 35,
      "outputs": []
    },
    {
      "cell_type": "code",
      "source": [
        "mean_squared_error(test_target, test_preds, squared=False)"
      ],
      "metadata": {
        "colab": {
          "base_uri": "https://localhost:8080/"
        },
        "id": "4I-2m1tnjGxf",
        "outputId": "d76a3b62-54ff-4009-ede6-e42ca7119025"
      },
      "execution_count": 38,
      "outputs": [
        {
          "output_type": "execute_result",
          "data": {
            "text/plain": [
              "0.12239801227242092"
            ]
          },
          "metadata": {},
          "execution_count": 38
        }
      ]
    },
    {
      "cell_type": "code",
      "source": [],
      "metadata": {
        "id": "iCjRu788XLMN"
      },
      "execution_count": null,
      "outputs": []
    }
  ]
}